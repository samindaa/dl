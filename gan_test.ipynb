{
 "cells": [
  {
   "cell_type": "code",
   "execution_count": 1,
   "metadata": {},
   "outputs": [
    {
     "name": "stderr",
     "output_type": "stream",
     "text": [
      "Using TensorFlow backend.\n"
     ]
    }
   ],
   "source": [
    "from keras.datasets import mnist\n",
    "import numpy as np"
   ]
  },
  {
   "cell_type": "code",
   "execution_count": 2,
   "metadata": {
    "collapsed": true
   },
   "outputs": [],
   "source": [
    "(x_train, y_train), (x_test, y_test) = mnist.load_data()"
   ]
  },
  {
   "cell_type": "code",
   "execution_count": 3,
   "metadata": {
    "collapsed": true
   },
   "outputs": [],
   "source": [
    "img_rows, img_cols, channels = 28, 28, 1\n",
    "x_train = x_train.reshape(-1, img_rows, img_cols, channels)\n",
    "x_test  = x_test.reshape(-1, img_rows, img_cols, channels)"
   ]
  },
  {
   "cell_type": "code",
   "execution_count": null,
   "metadata": {
    "collapsed": true
   },
   "outputs": [],
   "source": [
    "print(x_train.shape, y_train.shape, x_test.shape, y_test.shape)"
   ]
  },
  {
   "cell_type": "code",
   "execution_count": 4,
   "metadata": {
    "collapsed": true
   },
   "outputs": [],
   "source": [
    "x_train = x_train.astype(np.float32)\n",
    "x_test  = x_test.astype(np.float32)\n",
    "\n",
    "x_train /= 255\n",
    "x_test  /= 255"
   ]
  },
  {
   "cell_type": "code",
   "execution_count": 5,
   "metadata": {
    "collapsed": true
   },
   "outputs": [],
   "source": [
    "from keras.models import Input, Model\n",
    "from keras.layers import Dense, Activation, Flatten, Reshape\n",
    "from keras.layers import Conv2D, Conv2DTranspose, UpSampling2D\n",
    "from keras.layers import LeakyReLU, Dropout\n",
    "from keras.layers import BatchNormalization\n",
    "from keras.optimizers import Adam, RMSprop"
   ]
  },
  {
   "cell_type": "code",
   "execution_count": 6,
   "metadata": {},
   "outputs": [
    {
     "name": "stdout",
     "output_type": "stream",
     "text": [
      "_________________________________________________________________\n",
      "Layer (type)                 Output Shape              Param #   \n",
      "=================================================================\n",
      "input_1 (InputLayer)         (None, 100)               0         \n",
      "_________________________________________________________________\n",
      "dense_1 (Dense)              (None, 12544)             1266944   \n",
      "_________________________________________________________________\n",
      "batch_normalization_1 (Batch (None, 12544)             50176     \n",
      "_________________________________________________________________\n",
      "activation_1 (Activation)    (None, 12544)             0         \n",
      "_________________________________________________________________\n",
      "reshape_1 (Reshape)          (None, 7, 7, 256)         0         \n",
      "_________________________________________________________________\n",
      "dropout_1 (Dropout)          (None, 7, 7, 256)         0         \n",
      "_________________________________________________________________\n",
      "up_sampling2d_1 (UpSampling2 (None, 14, 14, 256)       0         \n",
      "_________________________________________________________________\n",
      "conv2d_transpose_1 (Conv2DTr (None, 14, 14, 128)       819328    \n",
      "_________________________________________________________________\n",
      "batch_normalization_2 (Batch (None, 14, 14, 128)       512       \n",
      "_________________________________________________________________\n",
      "activation_2 (Activation)    (None, 14, 14, 128)       0         \n",
      "_________________________________________________________________\n",
      "up_sampling2d_2 (UpSampling2 (None, 28, 28, 128)       0         \n",
      "_________________________________________________________________\n",
      "conv2d_transpose_2 (Conv2DTr (None, 28, 28, 64)        204864    \n",
      "_________________________________________________________________\n",
      "batch_normalization_3 (Batch (None, 28, 28, 64)        256       \n",
      "_________________________________________________________________\n",
      "activation_3 (Activation)    (None, 28, 28, 64)        0         \n",
      "_________________________________________________________________\n",
      "conv2d_transpose_3 (Conv2DTr (None, 28, 28, 32)        51232     \n",
      "_________________________________________________________________\n",
      "batch_normalization_4 (Batch (None, 28, 28, 32)        128       \n",
      "_________________________________________________________________\n",
      "activation_4 (Activation)    (None, 28, 28, 32)        0         \n",
      "_________________________________________________________________\n",
      "conv2d_transpose_4 (Conv2DTr (None, 28, 28, 1)         801       \n",
      "_________________________________________________________________\n",
      "activation_5 (Activation)    (None, 28, 28, 1)         0         \n",
      "=================================================================\n",
      "Total params: 2,394,241\n",
      "Trainable params: 2,368,705\n",
      "Non-trainable params: 25,536\n",
      "_________________________________________________________________\n"
     ]
    }
   ],
   "source": [
    "g_dropout = 0.4\n",
    "g_dim = 7\n",
    "g_depth = 64 * 4\n",
    "##g_depth = 8 * 4\n",
    "\n",
    "g_input = Input(shape=(100,))\n",
    "x = Dense(g_dim * g_dim * g_depth)(g_input)\n",
    "x = BatchNormalization(momentum=0.9)(x)\n",
    "x = Activation('relu')(x)\n",
    "x = Reshape((g_dim, g_dim, g_depth))(x)\n",
    "x = Dropout(g_dropout)(x)\n",
    "\n",
    "x = UpSampling2D()(x)\n",
    "##x = Conv2D(int(g_depth / 2), 5, padding='same')(x)\n",
    "x = Conv2DTranspose(int(g_depth / 2), 5, padding='same')(x)\n",
    "x = BatchNormalization(momentum=0.9)(x)\n",
    "x = Activation('relu')(x)\n",
    "\n",
    "x = UpSampling2D()(x)\n",
    "##x = Conv2D(int(g_depth / 4), 5, padding='same')(x)\n",
    "x = Conv2DTranspose(int(g_depth / 4), 5, padding='same')(x)\n",
    "x = BatchNormalization(momentum=0.9)(x)\n",
    "x = Activation('relu')(x)\n",
    "\n",
    "##x = Conv2D(int(g_depth / 8), 5, padding='same')(x)\n",
    "x = Conv2DTranspose(int(g_depth / 8), 5, padding='same')(x)\n",
    "x = BatchNormalization(momentum=0.9)(x)\n",
    "x = Activation('relu')(x)\n",
    "\n",
    "##x = Conv2D(1, 5, padding='same')(x)\n",
    "x = Conv2DTranspose(1, 5, padding='same')(x)\n",
    "g_output = Activation('sigmoid')(x)\n",
    "\n",
    "\n",
    "generator = Model(g_input, g_output)\n",
    "#g_opt = Adam(lr=1e-3)\n",
    "g_opt = RMSprop(lr=0.0001, decay=3e-8)\n",
    "generator.compile(loss='binary_crossentropy', optimizer=g_opt)\n",
    "generator.summary()"
   ]
  },
  {
   "cell_type": "code",
   "execution_count": 7,
   "metadata": {},
   "outputs": [
    {
     "name": "stdout",
     "output_type": "stream",
     "text": [
      "_________________________________________________________________\n",
      "Layer (type)                 Output Shape              Param #   \n",
      "=================================================================\n",
      "input_2 (InputLayer)         (None, 28, 28, 1)         0         \n",
      "_________________________________________________________________\n",
      "conv2d_1 (Conv2D)            (None, 14, 14, 64)        1664      \n",
      "_________________________________________________________________\n",
      "leaky_re_lu_1 (LeakyReLU)    (None, 14, 14, 64)        0         \n",
      "_________________________________________________________________\n",
      "dropout_2 (Dropout)          (None, 14, 14, 64)        0         \n",
      "_________________________________________________________________\n",
      "conv2d_2 (Conv2D)            (None, 7, 7, 128)         204928    \n",
      "_________________________________________________________________\n",
      "leaky_re_lu_2 (LeakyReLU)    (None, 7, 7, 128)         0         \n",
      "_________________________________________________________________\n",
      "dropout_3 (Dropout)          (None, 7, 7, 128)         0         \n",
      "_________________________________________________________________\n",
      "conv2d_3 (Conv2D)            (None, 4, 4, 256)         819456    \n",
      "_________________________________________________________________\n",
      "leaky_re_lu_3 (LeakyReLU)    (None, 4, 4, 256)         0         \n",
      "_________________________________________________________________\n",
      "dropout_4 (Dropout)          (None, 4, 4, 256)         0         \n",
      "_________________________________________________________________\n",
      "conv2d_4 (Conv2D)            (None, 4, 4, 512)         3277312   \n",
      "_________________________________________________________________\n",
      "leaky_re_lu_4 (LeakyReLU)    (None, 4, 4, 512)         0         \n",
      "_________________________________________________________________\n",
      "dropout_5 (Dropout)          (None, 4, 4, 512)         0         \n",
      "_________________________________________________________________\n",
      "flatten_1 (Flatten)          (None, 8192)              0         \n",
      "_________________________________________________________________\n",
      "dense_2 (Dense)              (None, 1)                 8193      \n",
      "_________________________________________________________________\n",
      "activation_6 (Activation)    (None, 1)                 0         \n",
      "=================================================================\n",
      "Total params: 4,311,553\n",
      "Trainable params: 4,311,553\n",
      "Non-trainable params: 0\n",
      "_________________________________________________________________\n"
     ]
    }
   ],
   "source": [
    "d_dropout = 0.4\n",
    "d_depth = 64\n",
    "##d_depth = 4\n",
    "\n",
    "d_input = Input(shape=(img_rows, img_cols, channels))\n",
    "x = Conv2D(d_depth * 1, 5, strides=2, padding='same')(d_input)\n",
    "x = LeakyReLU(alpha=0.2)(x)\n",
    "x = Dropout(d_dropout)(x)\n",
    "\n",
    "x = Conv2D(d_depth * 2, 5, strides=2, padding='same')(x)\n",
    "x = LeakyReLU(alpha=0.2)(x)\n",
    "x = Dropout(d_dropout)(x)\n",
    "\n",
    "x = Conv2D(d_depth * 4, 5, strides=2, padding='same')(x)\n",
    "x = LeakyReLU(alpha=0.2)(x)\n",
    "x = Dropout(d_dropout)(x)\n",
    "\n",
    "x = Conv2D(d_depth * 8, 5, strides=1, padding='same')(x)\n",
    "x = LeakyReLU(alpha=0.2)(x)\n",
    "x = Dropout(d_dropout)(x)\n",
    "\n",
    "x = Flatten()(x)\n",
    "x = Dense(1)(x)\n",
    "d_output = Activation('sigmoid')(x)\n",
    "\n",
    "discriminator = Model(d_input, d_output)\n",
    "#d_opt = Adam(lr=1e-4)\n",
    "d_opt = RMSprop(lr=0.0002, decay=6e-8)\n",
    "discriminator.compile(loss='binary_crossentropy', optimizer=d_opt)\n",
    "discriminator.summary()"
   ]
  },
  {
   "cell_type": "code",
   "execution_count": 8,
   "metadata": {
    "collapsed": true
   },
   "outputs": [],
   "source": [
    "# Freeze weights in the discriminator for stacked training\n",
    "def make_trainable(net, boolean):\n",
    "    net.trainable = boolean\n",
    "    for l in net.layers:\n",
    "        l.trainable = boolean"
   ]
  },
  {
   "cell_type": "code",
   "execution_count": 9,
   "metadata": {},
   "outputs": [
    {
     "name": "stdout",
     "output_type": "stream",
     "text": [
      "_________________________________________________________________\n",
      "Layer (type)                 Output Shape              Param #   \n",
      "=================================================================\n",
      "input_3 (InputLayer)         (None, 100)               0         \n",
      "_________________________________________________________________\n",
      "model_1 (Model)              (None, 28, 28, 1)         2394241   \n",
      "_________________________________________________________________\n",
      "model_2 (Model)              (None, 1)                 4311553   \n",
      "=================================================================\n",
      "Total params: 6,705,794\n",
      "Trainable params: 2,368,705\n",
      "Non-trainable params: 4,337,089\n",
      "_________________________________________________________________\n"
     ]
    }
   ],
   "source": [
    "make_trainable(discriminator, False)\n",
    "# Build stacked GAN model\n",
    "g_stack_input  = Input(shape=(100,))\n",
    "g_stack_output = generator(g_stack_input)\n",
    "d_stack_output = discriminator(g_stack_output)\n",
    "\n",
    "gan = Model(g_stack_input, d_stack_output)\n",
    "gan.compile(loss='binary_crossentropy', optimizer=d_opt, metrics=['accuracy'])\n",
    "gan.summary()"
   ]
  },
  {
   "cell_type": "code",
   "execution_count": 10,
   "metadata": {},
   "outputs": [
    {
     "name": "stdout",
     "output_type": "stream",
     "text": [
      "(10000, 28, 28, 1)\n"
     ]
    }
   ],
   "source": [
    "ntrain = 10000\n",
    "trainidx = np.random.choice(x_train.shape[0], size=ntrain)\n",
    "x_tt = x_train[trainidx,:,:,:]\n",
    "print(x_tt.shape)"
   ]
  },
  {
   "cell_type": "code",
   "execution_count": null,
   "metadata": {
    "collapsed": true
   },
   "outputs": [],
   "source": [
    "noise_gen = np.random.uniform(-1.0, 1.0, size=(x_tt.shape[0], 100))\n",
    "generated_images = generator.predict(noise_gen)\n",
    "xx = np.concatenate((x_tt, generated_images))\n",
    "yy = np.concatenate((np.ones((x_tt.shape[0], 1)), np.zeros((x_tt.shape[0], 1))))\n",
    "\n",
    "make_trainable(discriminator, True)\n",
    "discriminator.fit(xx, yy, epochs=1, batch_size=32)"
   ]
  },
  {
   "cell_type": "code",
   "execution_count": 11,
   "metadata": {
    "collapsed": true
   },
   "outputs": [],
   "source": [
    "losses = {'d' : [], 'g' : []}"
   ]
  },
  {
   "cell_type": "code",
   "execution_count": 13,
   "metadata": {
    "collapsed": true
   },
   "outputs": [],
   "source": [
    "from tqdm import tqdm\n",
    "\n",
    "def train_for_n(epochs = 5000, batch_size = 32):\n",
    "    for e in tqdm(range(epochs)):\n",
    "        image_batch = x_train[np.random.choice(x_train.shape[0], size=batch_size),:,:,:]\n",
    "        noise_gen = np.random.uniform(-1.0, 1.0, size=(batch_size, 100))\n",
    "        generated_images = generator.predict(noise_gen)\n",
    "        \n",
    "        xx = np.concatenate((image_batch, generated_images))\n",
    "        yy = np.concatenate((np.ones((batch_size, 1)), np.zeros((batch_size, 1))))\n",
    "        \n",
    "        make_trainable(discriminator, True)\n",
    "        d_loss = discriminator.train_on_batch(xx, yy)\n",
    "        losses['d'].append(d_loss)\n",
    "        \n",
    "        # train Generator-Discriminator stack on input noise to non-generated output class\n",
    "        noise_tr = np.random.uniform(-1.0, 1.0, size=(batch_size, 100))\n",
    "        yyy = np.ones((batch_size, 1))\n",
    "        make_trainable(discriminator, False)\n",
    "        g_loss = gan.train_on_batch(noise_tr, yyy)\n",
    "        losses[\"g\"].append(g_loss)"
   ]
  },
  {
   "cell_type": "code",
   "execution_count": null,
   "metadata": {},
   "outputs": [
    {
     "name": "stderr",
     "output_type": "stream",
     "text": [
      " 94%|█████████▎| 1870/2000 [49:27<03:24,  1.58s/it]"
     ]
    }
   ],
   "source": [
    "train_for_n(epochs=2000, batch_size=128)"
   ]
  },
  {
   "cell_type": "code",
   "execution_count": 15,
   "metadata": {
    "collapsed": true
   },
   "outputs": [],
   "source": [
    "import matplotlib.pyplot as plt\n",
    "%matplotlib inline"
   ]
  },
  {
   "cell_type": "code",
   "execution_count": 16,
   "metadata": {
    "collapsed": true
   },
   "outputs": [],
   "source": [
    "def plot_loss(losses):\n",
    "    plt.figure(figsize=(10,8))\n",
    "    plt.plot(losses['d'], label='discriminitive loss')\n",
    "    plt.plot(losses['g'], label='generative loss')\n",
    "    plt.legend()"
   ]
  },
  {
   "cell_type": "code",
   "execution_count": 17,
   "metadata": {
    "collapsed": true
   },
   "outputs": [],
   "source": [
    "def plot_gen(n_ex=16,dim=(4,4), figsize=(10,10) ):\n",
    "    noise = np.random.uniform(-1.0,1.0,size=[n_ex,100])\n",
    "    generated_images = generator.predict(noise)\n",
    "\n",
    "    plt.figure(figsize=figsize)\n",
    "    for i in range(generated_images.shape[0]):\n",
    "        plt.subplot(dim[0],dim[1],i+1)\n",
    "        img = generated_images[i,:,:,0]\n",
    "        plt.imshow(img)\n",
    "        plt.axis('off')\n",
    "    plt.tight_layout()"
   ]
  },
  {
   "cell_type": "code",
   "execution_count": 18,
   "metadata": {},
   "outputs": [
    {
     "data": {
      "image/png": "[encoded data removed]",
      "text/plain": [
       "<matplotlib.figure.Figure at 0x7f008f5044e0>"
      ]
     },
     "metadata": {},
     "output_type": "display_data"
    }
   ],
   "source": [
    "plot_loss(losses=losses)"
   ]
  },
  {
   "cell_type": "code",
   "execution_count": 19,
   "metadata": {},
   "outputs": [
    {
     "data": {
      "image/png": "[encoded data removed]",
      "text/plain": [
       "<matplotlib.figure.Figure at 0x7f012e76ef60>"
      ]
     },
     "metadata": {},
     "output_type": "display_data"
    }
   ],
   "source": [
    "plot_gen()"
   ]
  },
  {
   "cell_type": "code",
   "execution_count": null,
   "metadata": {
    "collapsed": true
   },
   "outputs": [],
   "source": []
  }
 ],
 "metadata": {
  "kernelspec": {
   "display_name": "Python 3",
   "language": "python",
   "name": "python3"
  },
  "language_info": {
   "codemirror_mode": {
    "name": "ipython",
    "version": 3
   },
   "file_extension": ".py",
   "mimetype": "text/x-python",
   "name": "python",
   "nbconvert_exporter": "python",
   "pygments_lexer": "ipython3",
   "version": "3.5.3"
  }
 },
 "nbformat": 4,
 "nbformat_minor": 1
}
